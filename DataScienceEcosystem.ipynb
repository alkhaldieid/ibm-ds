{
 "cells": [
  {
   "cell_type": "markdown",
   "id": "de517170-f9ab-418d-bcb4-c7f8171e7bcb",
   "metadata": {},
   "source": [
    "<center>\n",
    "    <img src=\"https://cf-courses-data.s3.us.cloud-object-storage.appdomain.cloud/IBMDeveloperSkillsNetwork-DS0105EN-SkillsNetwork/labs/Module2/images/SN_web_lightmode.png\" width=\"300\" alt=\"cognitiveclass.ai logo\">\n",
    "</center>\n"
   ]
  },
  {
   "cell_type": "markdown",
   "id": "43cf5ed6-a9d5-473f-8daa-e59dff77f3d2",
   "metadata": {},
   "source": [
    "#### Add your code below following the instructions given in the course"
   ]
  },
  {
   "cell_type": "markdown",
   "id": "b5e091e8-43b0-4794-99fe-ddbee6390d2b",
   "metadata": {},
   "source": [
    "# Data Science Tools and Ecosystem\n"
   ]
  },
  {
   "cell_type": "markdown",
   "id": "498919c3-d80b-4624-9964-e56f1fff5b6c",
   "metadata": {},
   "source": [
    "In this notebook, Data Science Tools and Ecosystem are summarized.\n"
   ]
  },
  {
   "cell_type": "markdown",
   "id": "bb40955c-8a8a-4ad3-b5a6-3a8037564351",
   "metadata": {},
   "source": [
    "**Objectives:**\n",
    "- List Some of the popular languages for Data Science\n",
    "- List some of the commonly used libraries used by Data Scientists\n",
    "- List some of the Data Science Tools "
   ]
  },
  {
   "cell_type": "markdown",
   "id": "297ad94b-9dc1-400f-8356-49b2a47fcc81",
   "metadata": {},
   "source": [
    "Some of the popular languages that Data Scientists use are:\n",
    "1. Python\n",
    "2. R\n",
    "3. Julia"
   ]
  },
  {
   "cell_type": "markdown",
   "id": "0b59cd9b-6918-4cf9-9e18-5520ecfea21a",
   "metadata": {},
   "source": [
    "Some of the commonly used libraries used by Data Scientists include:\n",
    "1. Pandas\n",
    "2. NumPy\n",
    "3. scikit-learn"
   ]
  },
  {
   "cell_type": "markdown",
   "id": "304b8f01-47c9-4ff1-93a0-08a99259eb74",
   "metadata": {},
   "source": [
    "| Data Science Tools    |\n",
    "|-----------------------|\n",
    "| Jupyter Notebook      |\n",
    "| RStudio               |\n",
    "| Spyder                |\n"
   ]
  },
  {
   "cell_type": "markdown",
   "id": "d280e640-e0a0-46c8-b5c3-0f6878372b6b",
   "metadata": {},
   "source": [
    "### Below are a few examples of evaluating arithmetic expressions in Python"
   ]
  },
  {
   "cell_type": "code",
   "execution_count": 2,
   "id": "437a6471-9f2a-4369-b223-38ebc9ba0a4c",
   "metadata": {},
   "outputs": [
    {
     "data": {
      "text/plain": [
       "17"
      ]
     },
     "execution_count": 2,
     "metadata": {},
     "output_type": "execute_result"
    }
   ],
   "source": [
    "#  This a simple arithmetic expression to mutiply then add integers\n",
    "(3*4)+5"
   ]
  },
  {
   "cell_type": "code",
   "execution_count": 3,
   "id": "2f19639f-9173-4549-8f81-2a6be69c9dad",
   "metadata": {},
   "outputs": [
    {
     "data": {
      "text/plain": [
       "3.3333333333333335"
      ]
     },
     "execution_count": 3,
     "metadata": {},
     "output_type": "execute_result"
    }
   ],
   "source": [
    "# This will convert 200 minutes to hours by diving by 60\n",
    "200/60"
   ]
  },
  {
   "cell_type": "markdown",
   "id": "97be95e4-bb34-466a-94ab-44367fe34399",
   "metadata": {},
   "source": [
    "## Author: Eid Alkhaldi"
   ]
  },
  {
   "cell_type": "code",
   "execution_count": null,
   "id": "bd5ced09-96e6-4ca6-8f6b-9c093e835994",
   "metadata": {},
   "outputs": [],
   "source": []
  }
 ],
 "metadata": {
  "kernelspec": {
   "display_name": "Python",
   "language": "python",
   "name": "conda-env-python-py"
  },
  "language_info": {
   "codemirror_mode": {
    "name": "ipython",
    "version": 3
   },
   "file_extension": ".py",
   "mimetype": "text/x-python",
   "name": "python",
   "nbconvert_exporter": "python",
   "pygments_lexer": "ipython3",
   "version": "3.7.12"
  }
 },
 "nbformat": 4,
 "nbformat_minor": 5
}
